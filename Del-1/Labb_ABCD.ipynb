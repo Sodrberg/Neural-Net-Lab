{
  "cells": [
    {
      "cell_type": "code",
      "execution_count": 1,
      "metadata": {
        "colab": {
          "base_uri": "https://localhost:8080/"
        },
        "id": "eB3eMr36eJom",
        "outputId": "69f35571-b020-4a38-8cb6-100cc299cf77"
      },
      "outputs": [
        {
          "name": "stdout",
          "output_type": "stream",
          "text": [
            "0.6570104626734988\n"
          ]
        }
      ],
      "source": [
        "#A1\n",
        "\n",
        "import math\n",
        "\n",
        "class Neuron:\n",
        "  def __init__(self, x_arr, w_arr, bias):\n",
        "      self.x_arr = x_arr\n",
        "      self.w_arr = w_arr\n",
        "      self.bias = bias\n",
        "\n",
        "  def sigmoid(self, x):\n",
        "    return 1 / (1 + math.exp(-x))\n",
        "\n",
        "  def neuron(self) -> float:\n",
        "      x_arr = self.x_arr\n",
        "      w_arr = self.w_arr\n",
        "\n",
        "      z = 0\n",
        "\n",
        "      for i in range(len(x_arr)):\n",
        "          z += x_arr[i] * w_arr[i]\n",
        "\n",
        "      z += self.bias\n",
        "\n",
        "      res = self.sigmoid(z)\n",
        "\n",
        "      return res\n",
        "\n",
        "neuron = Neuron(x_arr=[0.1, 0.2, 0.3, 0.4, 0.5], w_arr=[0.1, 0.2, 0.3, 0.4, 0.5], bias=0.1)\n",
        "print(neuron.neuron())\n"
      ]
    },
    {
      "cell_type": "code",
      "execution_count": 2,
      "metadata": {
        "colab": {
          "base_uri": "https://localhost:8080/"
        },
        "id": "mhsFheDCRt5g",
        "outputId": "962b924f-b23f-4110-dd45-9cdc717e2577"
      },
      "outputs": [
        {
          "name": "stdout",
          "output_type": "stream",
          "text": [
            "0.6570104626734988\n"
          ]
        }
      ],
      "source": [
        "#A2\n",
        "\n",
        "import numpy as np\n",
        "\n",
        "class Neuron:\n",
        "  def __init__(self, x_arr, w_arr, bias):\n",
        "      self.x_arr = x_arr\n",
        "      self.w_arr = w_arr\n",
        "      self.bias = bias\n",
        "\n",
        "  def sigmoid(self, x):\n",
        "    return 1 / (1 + math.exp(-x))\n",
        "\n",
        "  def neuron(self) -> float:\n",
        "      x_arr = self.x_arr\n",
        "      w_arr = self.w_arr\n",
        "\n",
        "      z = 0\n",
        "      z += np.dot(x_arr, w_arr) + self.bias\n",
        "\n",
        "      res = self.sigmoid(z)\n",
        "\n",
        "      return res\n",
        "\n",
        "neuron = Neuron(x_arr=[0.1, 0.2, 0.3, 0.4, 0.5], w_arr=[0.1, 0.2, 0.3, 0.4, 0.5], bias=0.1)\n",
        "print(neuron.neuron())"
      ]
    },
    {
      "cell_type": "code",
      "execution_count": 3,
      "metadata": {
        "colab": {
          "base_uri": "https://localhost:8080/"
        },
        "id": "8cii_-uYYeeJ",
        "outputId": "c35063a0-e7ea-4e1b-8c03-a45a03c5be84"
      },
      "outputs": [
        {
          "name": "stdout",
          "output_type": "stream",
          "text": [
            "[0.65407499 0.62104828 0.68804601 0.7286927  0.74372114]\n"
          ]
        }
      ],
      "source": [
        "#B\n",
        "\n",
        "import numpy as np\n",
        "\n",
        "class Layer:\n",
        "    def __init__(self, input ):\n",
        "        self.input = np.array(input)\n",
        "\n",
        "    @staticmethod\n",
        "    def sigmoid(x):\n",
        "        return 1 / (1 + np.exp(-x))\n",
        "\n",
        "    def forward_prop(self):\n",
        "        weights = np.array([\n",
        "            [0.5, 0.2, 0.3, 0.4, 0.8],\n",
        "            [0.8, 0.2, 0.4, 0.4, 0.4],\n",
        "            [0.1, 0.2, 0.3, 0.4, 0.5],\n",
        "            [0.1, 0.2, 0.3, 0.4, 0.33]\n",
        "        ])\n",
        "        res = np.dot(self.input, weights)\n",
        "        output = self.sigmoid(res)\n",
        "        return output\n",
        "\n",
        "l_1 = Layer([0.1, 0.5, 0.99, 0.88])\n",
        "output = l_1.forward_prop()\n",
        "print(output)\n",
        "\n",
        "\n"
      ]
    },
    {
      "cell_type": "code",
      "execution_count": 4,
      "metadata": {
        "colab": {
          "base_uri": "https://localhost:8080/"
        },
        "id": "3mGlCwY0baAr",
        "outputId": "a49c3c95-8a2e-4c84-aca9-7199b897eda1"
      },
      "outputs": [
        {
          "name": "stdout",
          "output_type": "stream",
          "text": [
            "[0.98259183 0.93205325 0.89442343]\n"
          ]
        }
      ],
      "source": [
        "#B but with multiple layers\n",
        "import numpy as np\n",
        "\n",
        "class Layer:\n",
        "    def __init__(self, input_size, output_size):\n",
        "        self.weights = np.random.rand(input_size, output_size)\n",
        "        self.bias = np.random.rand(output_size)\n",
        "\n",
        "    @staticmethod\n",
        "    def sigmoid(x):\n",
        "        return 1 / (1 + np.exp(-x))\n",
        "\n",
        "    def forward_prop(self, input):\n",
        "        input = np.array(input)\n",
        "        res = np.dot(input, self.weights) + self.bias\n",
        "        output = self.sigmoid(res)\n",
        "        return output\n",
        "\n",
        "input_data = [0.1, 0.5, 0.99, 0.88]\n",
        "l1 = Layer(4, 5)\n",
        "output1 = l1.forward_prop(input_data)\n",
        "\n",
        "l2 = Layer(5, 3)\n",
        "output2 = l2.forward_prop(output1)\n",
        "\n",
        "print(output2)\n"
      ]
    },
    {
      "cell_type": "code",
      "execution_count": 5,
      "metadata": {
        "id": "DPobSEHoahsR"
      },
      "outputs": [
        {
          "name": "stdout",
          "output_type": "stream",
          "text": [
            "Downloading http://yann.lecun.com/exdb/mnist/train-images-idx3-ubyte.gz\n",
            "Downloading http://yann.lecun.com/exdb/mnist/train-images-idx3-ubyte.gz to ./data/MNIST/raw/train-images-idx3-ubyte.gz\n",
            "Failed to download (trying next):\n",
            "HTTP Error 503: Service Unavailable\n",
            "\n",
            "Downloading https://ossci-datasets.s3.amazonaws.com/mnist/train-images-idx3-ubyte.gz\n",
            "Downloading https://ossci-datasets.s3.amazonaws.com/mnist/train-images-idx3-ubyte.gz to ./data/MNIST/raw/train-images-idx3-ubyte.gz\n"
          ]
        },
        {
          "name": "stderr",
          "output_type": "stream",
          "text": [
            "100.0%\n"
          ]
        },
        {
          "name": "stdout",
          "output_type": "stream",
          "text": [
            "Extracting ./data/MNIST/raw/train-images-idx3-ubyte.gz to ./data/MNIST/raw\n",
            "\n",
            "Downloading http://yann.lecun.com/exdb/mnist/train-labels-idx1-ubyte.gz\n",
            "Downloading http://yann.lecun.com/exdb/mnist/train-labels-idx1-ubyte.gz to ./data/MNIST/raw/train-labels-idx1-ubyte.gz\n",
            "Failed to download (trying next):\n",
            "HTTP Error 503: Service Unavailable\n",
            "\n",
            "Downloading https://ossci-datasets.s3.amazonaws.com/mnist/train-labels-idx1-ubyte.gz\n",
            "Downloading https://ossci-datasets.s3.amazonaws.com/mnist/train-labels-idx1-ubyte.gz to ./data/MNIST/raw/train-labels-idx1-ubyte.gz\n"
          ]
        },
        {
          "name": "stderr",
          "output_type": "stream",
          "text": [
            "100.0%\n"
          ]
        },
        {
          "name": "stdout",
          "output_type": "stream",
          "text": [
            "Extracting ./data/MNIST/raw/train-labels-idx1-ubyte.gz to ./data/MNIST/raw\n",
            "\n",
            "Downloading http://yann.lecun.com/exdb/mnist/t10k-images-idx3-ubyte.gz\n",
            "Failed to download (trying next):\n",
            "HTTP Error 503: Service Unavailable\n",
            "\n",
            "Downloading https://ossci-datasets.s3.amazonaws.com/mnist/t10k-images-idx3-ubyte.gz\n",
            "Downloading https://ossci-datasets.s3.amazonaws.com/mnist/t10k-images-idx3-ubyte.gz to ./data/MNIST/raw/t10k-images-idx3-ubyte.gz\n"
          ]
        },
        {
          "name": "stderr",
          "output_type": "stream",
          "text": [
            "100.0%\n"
          ]
        },
        {
          "name": "stdout",
          "output_type": "stream",
          "text": [
            "Extracting ./data/MNIST/raw/t10k-images-idx3-ubyte.gz to ./data/MNIST/raw\n",
            "\n",
            "Downloading http://yann.lecun.com/exdb/mnist/t10k-labels-idx1-ubyte.gz\n",
            "Failed to download (trying next):\n",
            "HTTP Error 503: Service Unavailable\n",
            "\n",
            "Downloading https://ossci-datasets.s3.amazonaws.com/mnist/t10k-labels-idx1-ubyte.gz\n",
            "Downloading https://ossci-datasets.s3.amazonaws.com/mnist/t10k-labels-idx1-ubyte.gz to ./data/MNIST/raw/t10k-labels-idx1-ubyte.gz\n"
          ]
        },
        {
          "name": "stderr",
          "output_type": "stream",
          "text": [
            "100.0%"
          ]
        },
        {
          "name": "stdout",
          "output_type": "stream",
          "text": [
            "Extracting ./data/MNIST/raw/t10k-labels-idx1-ubyte.gz to ./data/MNIST/raw\n",
            "\n"
          ]
        },
        {
          "name": "stderr",
          "output_type": "stream",
          "text": [
            "\n"
          ]
        }
      ],
      "source": [
        "#C/D\n",
        "\n",
        "import torch\n",
        "from torchvision import datasets, transforms\n",
        "import torchvision.transforms as transforms\n",
        "from torch.utils.data import DataLoader\n",
        "\n",
        "# Skapa en transform för att redan vid load...\n",
        "transform = transforms.Compose([\n",
        "    transforms.RandomAffine(degrees=(-2,2)),\n",
        "    transforms.ToTensor(),    # ... 1) konvertera data till [0.0-1.0]\n",
        "    transforms.Normalize((0.5,),(0.5,)) # ... och 2) normalisera gråskalan\n",
        "])\n",
        "\n",
        "# MNIST är så vanligt att det finns som funktion i datasets\n",
        "train_set = datasets.MNIST(root='./data', train=True,  download=True, transform=transform)\n",
        "test_set  = datasets.MNIST(root='./data', train=False, download=True, transform=transform)\n",
        "\n",
        "# Skapa en DataLoader för träningsdata och en för testdata\n",
        "from torch.utils.data import DataLoader\n",
        "train_loader = DataLoader(train_set, batch_size=64, num_workers=4, pin_memory=True, shuffle=True)\n",
        "test_loader  = DataLoader(test_set,  batch_size=64, shuffle=False)\n",
        "\n",
        "\n"
      ]
    },
    {
      "cell_type": "code",
      "execution_count": 7,
      "metadata": {
        "id": "2VlAh1fUs1tl"
      },
      "outputs": [],
      "source": [
        "import torch.nn as nn\n",
        "import torch.optim as optim\n",
        "\n",
        "class CNN(nn.Module):\n",
        "  def __init__(self):\n",
        "    super(CNN, self).__init__()\n",
        "    self.fc1 = nn.Linear(784, 128)\n",
        "    self.fc2 = nn.Linear(128, 64)\n",
        "    self.fc3 = nn.Linear(64, 10)\n",
        "\n",
        "  def forward(self, x):\n",
        "        x = x.view(-1, 784)\n",
        "        x = torch.relu(self.fc1(x))\n",
        "        x = torch.relu(self.fc2(x))\n",
        "        x = self.fc3(x)\n",
        "        return x"
      ]
    },
    {
      "cell_type": "code",
      "execution_count": 8,
      "metadata": {
        "colab": {
          "base_uri": "https://localhost:8080/",
          "height": 1000
        },
        "id": "5Y5EA_4UfqBy",
        "outputId": "5fd8af56-02d3-411d-e044-9c20160eb007"
      },
      "outputs": [
        {
          "name": "stdout",
          "output_type": "stream",
          "text": [
            "Epoch 1, Batch 100, Loss: 1.3194\n",
            "Epoch 1, Batch 200, Loss: 0.5370\n",
            "Epoch 1, Batch 300, Loss: 0.4288\n",
            "Epoch 1, Batch 400, Loss: 0.3702\n",
            "Epoch 1, Batch 500, Loss: 0.3504\n",
            "Epoch 1, Batch 600, Loss: 0.3313\n",
            "Epoch 1, Batch 700, Loss: 0.3327\n",
            "Epoch 1, Batch 800, Loss: 0.3197\n",
            "Epoch 1, Batch 900, Loss: 0.3271\n",
            "Epoch 2, Batch 100, Loss: 0.2903\n",
            "Epoch 2, Batch 200, Loss: 0.2723\n",
            "Epoch 2, Batch 300, Loss: 0.2855\n",
            "Epoch 2, Batch 400, Loss: 0.2726\n",
            "Epoch 2, Batch 500, Loss: 0.2633\n",
            "Epoch 2, Batch 600, Loss: 0.2593\n",
            "Epoch 2, Batch 700, Loss: 0.2439\n",
            "Epoch 2, Batch 800, Loss: 0.2254\n",
            "Epoch 2, Batch 900, Loss: 0.2207\n",
            "Epoch 3, Batch 100, Loss: 0.2129\n",
            "Epoch 3, Batch 200, Loss: 0.2023\n",
            "Epoch 3, Batch 300, Loss: 0.1885\n",
            "Epoch 3, Batch 400, Loss: 0.1932\n",
            "Epoch 3, Batch 500, Loss: 0.2099\n",
            "Epoch 3, Batch 600, Loss: 0.2082\n",
            "Epoch 3, Batch 700, Loss: 0.1940\n",
            "Epoch 3, Batch 800, Loss: 0.1809\n",
            "Epoch 3, Batch 900, Loss: 0.1781\n",
            "Epoch 4, Batch 100, Loss: 0.1544\n",
            "Epoch 4, Batch 200, Loss: 0.1657\n",
            "Epoch 4, Batch 300, Loss: 0.1690\n",
            "Epoch 4, Batch 400, Loss: 0.1652\n",
            "Epoch 4, Batch 500, Loss: 0.1528\n",
            "Epoch 4, Batch 600, Loss: 0.1611\n",
            "Epoch 4, Batch 700, Loss: 0.1417\n",
            "Epoch 4, Batch 800, Loss: 0.1605\n",
            "Epoch 4, Batch 900, Loss: 0.1458\n",
            "Epoch 5, Batch 100, Loss: 0.1324\n",
            "Epoch 5, Batch 200, Loss: 0.1495\n",
            "Epoch 5, Batch 300, Loss: 0.1363\n",
            "Epoch 5, Batch 400, Loss: 0.1199\n",
            "Epoch 5, Batch 500, Loss: 0.1328\n",
            "Epoch 5, Batch 600, Loss: 0.1151\n",
            "Epoch 5, Batch 700, Loss: 0.1137\n",
            "Epoch 5, Batch 800, Loss: 0.1236\n",
            "Epoch 5, Batch 900, Loss: 0.1300\n",
            "Epoch 6, Batch 100, Loss: 0.1212\n",
            "Epoch 6, Batch 200, Loss: 0.1181\n",
            "Epoch 6, Batch 300, Loss: 0.1013\n",
            "Epoch 6, Batch 400, Loss: 0.1185\n",
            "Epoch 6, Batch 500, Loss: 0.1099\n",
            "Epoch 6, Batch 600, Loss: 0.1133\n",
            "Epoch 6, Batch 700, Loss: 0.1096\n",
            "Epoch 6, Batch 800, Loss: 0.0895\n",
            "Epoch 6, Batch 900, Loss: 0.1078\n",
            "Epoch 7, Batch 100, Loss: 0.1049\n",
            "Epoch 7, Batch 200, Loss: 0.0976\n",
            "Epoch 7, Batch 300, Loss: 0.0952\n",
            "Epoch 7, Batch 400, Loss: 0.0912\n",
            "Epoch 7, Batch 500, Loss: 0.0956\n",
            "Epoch 7, Batch 600, Loss: 0.0868\n",
            "Epoch 7, Batch 700, Loss: 0.0917\n",
            "Epoch 7, Batch 800, Loss: 0.0936\n",
            "Epoch 7, Batch 900, Loss: 0.0908\n",
            "Epoch 8, Batch 100, Loss: 0.0835\n",
            "Epoch 8, Batch 200, Loss: 0.0846\n",
            "Epoch 8, Batch 300, Loss: 0.0777\n",
            "Epoch 8, Batch 400, Loss: 0.0866\n",
            "Epoch 8, Batch 500, Loss: 0.0830\n",
            "Epoch 8, Batch 600, Loss: 0.0889\n",
            "Epoch 8, Batch 700, Loss: 0.0904\n",
            "Epoch 8, Batch 800, Loss: 0.0787\n",
            "Epoch 8, Batch 900, Loss: 0.0748\n",
            "Epoch 9, Batch 100, Loss: 0.0727\n",
            "Epoch 9, Batch 200, Loss: 0.0698\n",
            "Epoch 9, Batch 300, Loss: 0.0787\n",
            "Epoch 9, Batch 400, Loss: 0.0618\n",
            "Epoch 9, Batch 500, Loss: 0.0740\n",
            "Epoch 9, Batch 600, Loss: 0.0769\n",
            "Epoch 9, Batch 700, Loss: 0.0710\n",
            "Epoch 9, Batch 800, Loss: 0.0783\n",
            "Epoch 9, Batch 900, Loss: 0.0860\n",
            "Epoch 10, Batch 100, Loss: 0.0718\n",
            "Epoch 10, Batch 200, Loss: 0.0630\n",
            "Epoch 10, Batch 300, Loss: 0.0768\n",
            "Epoch 10, Batch 400, Loss: 0.0563\n",
            "Epoch 10, Batch 500, Loss: 0.0659\n",
            "Epoch 10, Batch 600, Loss: 0.0727\n",
            "Epoch 10, Batch 700, Loss: 0.0718\n",
            "Epoch 10, Batch 800, Loss: 0.0757\n",
            "Epoch 10, Batch 900, Loss: 0.0634\n",
            "Epoch 11, Batch 100, Loss: 0.0595\n",
            "Epoch 11, Batch 200, Loss: 0.0614\n",
            "Epoch 11, Batch 300, Loss: 0.0556\n",
            "Epoch 11, Batch 400, Loss: 0.0573\n",
            "Epoch 11, Batch 500, Loss: 0.0673\n",
            "Epoch 11, Batch 600, Loss: 0.0676\n",
            "Epoch 11, Batch 700, Loss: 0.0544\n",
            "Epoch 11, Batch 800, Loss: 0.0586\n",
            "Epoch 11, Batch 900, Loss: 0.0641\n",
            "Epoch 12, Batch 100, Loss: 0.0511\n",
            "Epoch 12, Batch 200, Loss: 0.0486\n",
            "Epoch 12, Batch 300, Loss: 0.0494\n",
            "Epoch 12, Batch 400, Loss: 0.0530\n",
            "Epoch 12, Batch 500, Loss: 0.0607\n",
            "Epoch 12, Batch 600, Loss: 0.0643\n",
            "Epoch 12, Batch 700, Loss: 0.0615\n",
            "Epoch 12, Batch 800, Loss: 0.0556\n",
            "Epoch 12, Batch 900, Loss: 0.0638\n",
            "Epoch 13, Batch 100, Loss: 0.0426\n",
            "Epoch 13, Batch 200, Loss: 0.0444\n",
            "Epoch 13, Batch 300, Loss: 0.0517\n",
            "Epoch 13, Batch 400, Loss: 0.0486\n",
            "Epoch 13, Batch 500, Loss: 0.0476\n",
            "Epoch 13, Batch 600, Loss: 0.0563\n",
            "Epoch 13, Batch 700, Loss: 0.0521\n",
            "Epoch 13, Batch 800, Loss: 0.0607\n",
            "Epoch 13, Batch 900, Loss: 0.0565\n",
            "Epoch 14, Batch 100, Loss: 0.0377\n",
            "Epoch 14, Batch 200, Loss: 0.0424\n",
            "Epoch 14, Batch 300, Loss: 0.0532\n",
            "Epoch 14, Batch 400, Loss: 0.0438\n",
            "Epoch 14, Batch 500, Loss: 0.0417\n",
            "Epoch 14, Batch 600, Loss: 0.0418\n",
            "Epoch 14, Batch 700, Loss: 0.0561\n",
            "Epoch 14, Batch 800, Loss: 0.0504\n",
            "Epoch 14, Batch 900, Loss: 0.0539\n",
            "Epoch 15, Batch 100, Loss: 0.0460\n",
            "Epoch 15, Batch 200, Loss: 0.0349\n",
            "Epoch 15, Batch 300, Loss: 0.0373\n",
            "Epoch 15, Batch 400, Loss: 0.0372\n",
            "Epoch 15, Batch 500, Loss: 0.0467\n",
            "Epoch 15, Batch 600, Loss: 0.0504\n",
            "Epoch 15, Batch 700, Loss: 0.0577\n",
            "Epoch 15, Batch 800, Loss: 0.0388\n",
            "Epoch 15, Batch 900, Loss: 0.0444\n",
            "Epoch 16, Batch 100, Loss: 0.0360\n",
            "Epoch 16, Batch 200, Loss: 0.0334\n",
            "Epoch 16, Batch 300, Loss: 0.0431\n",
            "Epoch 16, Batch 400, Loss: 0.0369\n",
            "Epoch 16, Batch 500, Loss: 0.0383\n",
            "Epoch 16, Batch 600, Loss: 0.0464\n",
            "Epoch 16, Batch 700, Loss: 0.0500\n",
            "Epoch 16, Batch 800, Loss: 0.0399\n",
            "Epoch 16, Batch 900, Loss: 0.0456\n",
            "Epoch 17, Batch 100, Loss: 0.0333\n",
            "Epoch 17, Batch 200, Loss: 0.0307\n",
            "Epoch 17, Batch 300, Loss: 0.0341\n",
            "Epoch 17, Batch 400, Loss: 0.0411\n",
            "Epoch 17, Batch 500, Loss: 0.0388\n",
            "Epoch 17, Batch 600, Loss: 0.0412\n",
            "Epoch 17, Batch 700, Loss: 0.0459\n",
            "Epoch 17, Batch 800, Loss: 0.0423\n",
            "Epoch 17, Batch 900, Loss: 0.0429\n",
            "Epoch 18, Batch 100, Loss: 0.0353\n",
            "Epoch 18, Batch 200, Loss: 0.0416\n",
            "Epoch 18, Batch 300, Loss: 0.0322\n",
            "Epoch 18, Batch 400, Loss: 0.0350\n",
            "Epoch 18, Batch 500, Loss: 0.0302\n",
            "Epoch 18, Batch 600, Loss: 0.0307\n",
            "Epoch 18, Batch 700, Loss: 0.0253\n",
            "Epoch 18, Batch 800, Loss: 0.0389\n",
            "Epoch 18, Batch 900, Loss: 0.0379\n",
            "Epoch 19, Batch 100, Loss: 0.0227\n",
            "Epoch 19, Batch 200, Loss: 0.0384\n",
            "Epoch 19, Batch 300, Loss: 0.0295\n",
            "Epoch 19, Batch 400, Loss: 0.0421\n",
            "Epoch 19, Batch 500, Loss: 0.0371\n",
            "Epoch 19, Batch 600, Loss: 0.0369\n",
            "Epoch 19, Batch 700, Loss: 0.0356\n",
            "Epoch 19, Batch 800, Loss: 0.0386\n",
            "Epoch 19, Batch 900, Loss: 0.0273\n",
            "Epoch 20, Batch 100, Loss: 0.0245\n",
            "Epoch 20, Batch 200, Loss: 0.0288\n",
            "Epoch 20, Batch 300, Loss: 0.0273\n",
            "Epoch 20, Batch 400, Loss: 0.0303\n",
            "Epoch 20, Batch 500, Loss: 0.0242\n",
            "Epoch 20, Batch 600, Loss: 0.0317\n",
            "Epoch 20, Batch 700, Loss: 0.0302\n",
            "Epoch 20, Batch 800, Loss: 0.0381\n",
            "Epoch 20, Batch 900, Loss: 0.0307\n",
            "Epoch 21, Batch 100, Loss: 0.0203\n",
            "Epoch 21, Batch 200, Loss: 0.0186\n",
            "Epoch 21, Batch 300, Loss: 0.0241\n",
            "Epoch 21, Batch 400, Loss: 0.0243\n",
            "Epoch 21, Batch 500, Loss: 0.0341\n",
            "Epoch 21, Batch 600, Loss: 0.0295\n",
            "Epoch 21, Batch 700, Loss: 0.0356\n",
            "Epoch 21, Batch 800, Loss: 0.0300\n",
            "Epoch 21, Batch 900, Loss: 0.0343\n",
            "Epoch 22, Batch 100, Loss: 0.0217\n",
            "Epoch 22, Batch 200, Loss: 0.0305\n",
            "Epoch 22, Batch 300, Loss: 0.0274\n",
            "Epoch 22, Batch 400, Loss: 0.0233\n",
            "Epoch 22, Batch 500, Loss: 0.0220\n",
            "Epoch 22, Batch 600, Loss: 0.0235\n",
            "Epoch 22, Batch 700, Loss: 0.0212\n",
            "Epoch 22, Batch 800, Loss: 0.0284\n",
            "Epoch 22, Batch 900, Loss: 0.0289\n",
            "Epoch 23, Batch 100, Loss: 0.0177\n",
            "Epoch 23, Batch 200, Loss: 0.0259\n",
            "Epoch 23, Batch 300, Loss: 0.0238\n",
            "Epoch 23, Batch 400, Loss: 0.0210\n",
            "Epoch 23, Batch 500, Loss: 0.0290\n",
            "Epoch 23, Batch 600, Loss: 0.0262\n",
            "Epoch 23, Batch 700, Loss: 0.0275\n",
            "Epoch 23, Batch 800, Loss: 0.0356\n",
            "Epoch 23, Batch 900, Loss: 0.0249\n",
            "Epoch 24, Batch 100, Loss: 0.0190\n",
            "Epoch 24, Batch 200, Loss: 0.0170\n",
            "Epoch 24, Batch 300, Loss: 0.0196\n",
            "Epoch 24, Batch 400, Loss: 0.0261\n",
            "Epoch 24, Batch 500, Loss: 0.0227\n",
            "Epoch 24, Batch 600, Loss: 0.0251\n",
            "Epoch 24, Batch 700, Loss: 0.0289\n",
            "Epoch 24, Batch 800, Loss: 0.0242\n",
            "Epoch 24, Batch 900, Loss: 0.0281\n",
            "Epoch 25, Batch 100, Loss: 0.0200\n",
            "Epoch 25, Batch 200, Loss: 0.0177\n",
            "Epoch 25, Batch 300, Loss: 0.0184\n",
            "Epoch 25, Batch 400, Loss: 0.0168\n",
            "Epoch 25, Batch 500, Loss: 0.0213\n",
            "Epoch 25, Batch 600, Loss: 0.0192\n",
            "Epoch 25, Batch 700, Loss: 0.0221\n",
            "Epoch 25, Batch 800, Loss: 0.0269\n",
            "Epoch 25, Batch 900, Loss: 0.0234\n",
            "Epoch 26, Batch 100, Loss: 0.0139\n",
            "Epoch 26, Batch 200, Loss: 0.0137\n",
            "Epoch 26, Batch 300, Loss: 0.0204\n",
            "Epoch 26, Batch 400, Loss: 0.0206\n",
            "Epoch 26, Batch 500, Loss: 0.0211\n",
            "Epoch 26, Batch 600, Loss: 0.0232\n",
            "Epoch 26, Batch 700, Loss: 0.0311\n",
            "Epoch 26, Batch 800, Loss: 0.0274\n",
            "Epoch 26, Batch 900, Loss: 0.0172\n",
            "Epoch 27, Batch 100, Loss: 0.0163\n",
            "Epoch 27, Batch 200, Loss: 0.0216\n",
            "Epoch 27, Batch 300, Loss: 0.0192\n",
            "Epoch 27, Batch 400, Loss: 0.0118\n",
            "Epoch 27, Batch 500, Loss: 0.0148\n",
            "Epoch 27, Batch 600, Loss: 0.0177\n",
            "Epoch 27, Batch 700, Loss: 0.0155\n",
            "Epoch 27, Batch 800, Loss: 0.0187\n",
            "Epoch 27, Batch 900, Loss: 0.0176\n",
            "Epoch 28, Batch 100, Loss: 0.0168\n",
            "Epoch 28, Batch 200, Loss: 0.0135\n",
            "Epoch 28, Batch 300, Loss: 0.0162\n",
            "Epoch 28, Batch 400, Loss: 0.0163\n",
            "Epoch 28, Batch 500, Loss: 0.0283\n",
            "Epoch 28, Batch 600, Loss: 0.0180\n",
            "Epoch 28, Batch 700, Loss: 0.0181\n",
            "Epoch 28, Batch 800, Loss: 0.0228\n",
            "Epoch 28, Batch 900, Loss: 0.0212\n",
            "Epoch 29, Batch 100, Loss: 0.0146\n",
            "Epoch 29, Batch 200, Loss: 0.0161\n",
            "Epoch 29, Batch 300, Loss: 0.0148\n",
            "Epoch 29, Batch 400, Loss: 0.0206\n",
            "Epoch 29, Batch 500, Loss: 0.0188\n",
            "Epoch 29, Batch 600, Loss: 0.0154\n",
            "Epoch 29, Batch 700, Loss: 0.0212\n",
            "Epoch 29, Batch 800, Loss: 0.0269\n",
            "Epoch 29, Batch 900, Loss: 0.0191\n",
            "Epoch 30, Batch 100, Loss: 0.0177\n",
            "Epoch 30, Batch 200, Loss: 0.0134\n",
            "Epoch 30, Batch 300, Loss: 0.0112\n",
            "Epoch 30, Batch 400, Loss: 0.0213\n",
            "Epoch 30, Batch 500, Loss: 0.0181\n",
            "Epoch 30, Batch 600, Loss: 0.0130\n",
            "Epoch 30, Batch 700, Loss: 0.0162\n",
            "Epoch 30, Batch 800, Loss: 0.0263\n",
            "Epoch 30, Batch 900, Loss: 0.0170\n"
          ]
        },
        {
          "data": {
            "image/png": "[encoded data removed]",
            "text/plain": [
              "<Figure size 640x480 with 1 Axes>"
            ]
          },
          "metadata": {},
          "output_type": "display_data"
        }
      ],
      "source": [
        "import matplotlib.pyplot as plt\n",
        "loss_history = []\n",
        "\n",
        "model = CNN()\n",
        "\n",
        "if torch.cuda.is_available():\n",
        "    model.cuda()\n",
        "criterion = nn.CrossEntropyLoss()\n",
        "optimizer = optim.Adam(model.parameters(), lr=0.0005)\n",
        "\n",
        "for epoch in range(30): \n",
        "    running_loss = 0.0\n",
        "    for i, data in enumerate(train_loader, 0):\n",
        "        inputs, labels = data\n",
        "        if torch.cuda.is_available():\n",
        "            inputs, labels = inputs.cuda(), labels.cuda()\n",
        "        optimizer.zero_grad()\n",
        "        outputs = model(inputs)\n",
        "        loss = criterion(outputs, labels)\n",
        "        loss.backward()\n",
        "        optimizer.step()\n",
        "\n",
        "        running_loss += loss.item()\n",
        "        if i % 100 == 99:\n",
        "            current_loss = running_loss / 100\n",
        "            loss_history.append(current_loss)    \n",
        "            print(f'Epoch {epoch + 1}, Batch {i + 1}, Loss: {current_loss:.4f}')\n",
        "            running_loss = 0.0\n",
        "\n",
        "plt.plot(loss_history)\n",
        "plt.title('Loss History')\n",
        "plt.xlabel('Batch Number')\n",
        "plt.ylabel('Loss')\n",
        "plt.show()"
      ]
    },
    {
      "cell_type": "code",
      "execution_count": 9,
      "metadata": {
        "colab": {
          "base_uri": "https://localhost:8080/"
        },
        "id": "WCHuT3_0h5Qy",
        "outputId": "6b033a70-7ae1-4cdf-e1f0-8be0c1b63845"
      },
      "outputs": [
        {
          "name": "stdout",
          "output_type": "stream",
          "text": [
            "Accuracy of the network on the test images: 97.57%\n"
          ]
        }
      ],
      "source": [
        "incorrect_images = []\n",
        "incorrect_labels = []\n",
        "predicted_labels = []\n",
        "total = 0\n",
        "correct = 0\n",
        "\n",
        "device = torch.device(\"cuda\" if torch.cuda.is_available() else \"cpu\")\n",
        "model = model.to(device)\n",
        "\n",
        "with torch.no_grad():\n",
        "    for data in test_loader:\n",
        "        images, labels = data\n",
        "        images, labels = images.to(device), labels.to(device)\n",
        "        outputs = model(images)\n",
        "        _, predicted = torch.max(outputs.data, 1)\n",
        "        total += labels.size(0)\n",
        "        correct += (predicted == labels).sum().item()\n",
        "\n",
        "        mask = (predicted != labels)\n",
        "        incorrect_images.extend(images[mask])\n",
        "        incorrect_labels.extend(labels[mask])\n",
        "        predicted_labels.extend(predicted[mask])\n",
        "\n",
        "print(f'Accuracy of the network on the test images: {100 * correct / total:.2f}%')\n"
      ]
    },
    {
      "cell_type": "code",
      "execution_count": 10,
      "metadata": {
        "colab": {
          "base_uri": "https://localhost:8080/",
          "height": 159
        },
        "id": "QZbRgm3Mv71P",
        "outputId": "5de81f2b-c662-4e11-c289-fbce6aeb11e9"
      },
      "outputs": [
        {
          "data": {
            "image/png": "[encoded data removed]",
            "text/plain": [
              "<Figure size 1500x300 with 20 Axes>"
            ]
          },
          "metadata": {},
          "output_type": "display_data"
        }
      ],
      "source": [
        "import matplotlib.pyplot as plt\n",
        "\n",
        "num_images_to_show = 20 \n",
        "\n",
        "fig, axes = plt.subplots(nrows=1, ncols=num_images_to_show, figsize=(15, 3))\n",
        "\n",
        "for idx, ax in enumerate(axes):\n",
        "    if idx < len(incorrect_images):\n",
        "        image = incorrect_images[idx].cpu().numpy().squeeze() \n",
        "        true_label = incorrect_labels[idx].cpu().item()\n",
        "        pred_label = predicted_labels[idx].cpu().item()\n",
        "\n",
        "        ax.imshow(image, cmap='gray')\n",
        "        ax.set_title(f'Pred: {pred_label}\\nTrue: {true_label}')\n",
        "        ax.axis('off')\n",
        "    else:\n",
        "        ax.axis('off')  \n",
        "\n",
        "plt.tight_layout()\n",
        "plt.show()\n"
      ]
    },
    {
      "cell_type": "code",
      "execution_count": null,
      "metadata": {
        "id": "mOLbv5KgGLut"
      },
      "outputs": [],
      "source": []
    }
  ],
  "metadata": {
    "accelerator": "GPU",
    "colab": {
      "gpuType": "T4",
      "provenance": []
    },
    "kernelspec": {
      "display_name": "Python 3",
      "name": "python3"
    },
    "language_info": {
      "codemirror_mode": {
        "name": "ipython",
        "version": 3
      },
      "file_extension": ".py",
      "mimetype": "text/x-python",
      "name": "python",
      "nbconvert_exporter": "python",
      "pygments_lexer": "ipython3",
      "version": "3.11.5"
    }
  },
  "nbformat": 4,
  "nbformat_minor": 0
}
